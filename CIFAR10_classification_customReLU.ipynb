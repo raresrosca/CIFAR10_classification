{
  "nbformat": 4,
  "nbformat_minor": 0,
  "metadata": {
    "colab": {
      "name": "CIFAR10_classification_customReLU.ipynb",
      "version": "0.3.2",
      "provenance": [],
      "include_colab_link": true
    },
    "kernelspec": {
      "name": "python3",
      "display_name": "Python 3"
    },
    "accelerator": "GPU"
  },
  "cells": [
    {
      "cell_type": "markdown",
      "metadata": {
        "id": "view-in-github",
        "colab_type": "text"
      },
      "source": [
        "<a href=\"https://colab.research.google.com/github/raresrosca/CIFAR10_classification/blob/master/CIFAR10_classification_customReLU.ipynb\" target=\"_parent\"><img src=\"https://colab.research.google.com/assets/colab-badge.svg\" alt=\"Open In Colab\"/></a>"
      ]
    },
    {
      "cell_type": "code",
      "metadata": {
        "id": "xLdJTeWQKhNR",
        "colab_type": "code",
        "colab": {}
      },
      "source": [
        "import torch\n",
        "import torchvision as tv\n",
        "import torchvision.transforms as transforms\n",
        "import torch.nn as nn\n",
        "import torch.nn.functional as F"
      ],
      "execution_count": 0,
      "outputs": []
    },
    {
      "cell_type": "code",
      "metadata": {
        "id": "_h4lAZ3FKl-F",
        "colab_type": "code",
        "colab": {
          "base_uri": "https://localhost:8080/",
          "height": 51
        },
        "outputId": "bdd78cd7-d3ae-492d-8420-1c34358f858b"
      },
      "source": [
        "transform = transforms.Compose([transforms.ToTensor(),\n",
        "                              transforms.Normalize((0.5, 0.5, 0.5), (0.5, 0.5, 0.5))])\n",
        "\n",
        "trainset = tv.datasets.CIFAR10(root = '/content/data',\n",
        "                              train = True, download = True, transform = transform)\n",
        "\n",
        "trainloader = torch.utils.data.DataLoader(trainset, batch_size = 4, shuffle = True, num_workers = 4)\n",
        "\n",
        "testset = tv.datasets.CIFAR10(root = '/content/data',\n",
        "                             train = False, download = True, transform = transform)\n",
        "\n",
        "testloader = torch.utils.data.DataLoader(testset, batch_size = 4, shuffle = False, num_workers = 2)\n",
        "\n",
        "classes = ('plane', 'car', 'bird', 'cat', 'deer', 'dog', 'frog', 'horse', 'ship', 'truck')\n",
        "\n"
      ],
      "execution_count": 2,
      "outputs": [
        {
          "output_type": "stream",
          "text": [
            "Files already downloaded and verified\n",
            "Files already downloaded and verified\n"
          ],
          "name": "stdout"
        }
      ]
    },
    {
      "cell_type": "code",
      "metadata": {
        "id": "fYFishVhKq8b",
        "colab_type": "code",
        "colab": {
          "base_uri": "https://localhost:8080/",
          "height": 156
        },
        "outputId": "c40d0048-4c89-4ea7-9130-f78f4c4db382"
      },
      "source": [
        "import matplotlib.pyplot as plt\n",
        "import numpy as np\n",
        "\n",
        "#functions to show an image\n",
        "\n",
        "def imshow(img):\n",
        "  img = img / 2 + 0.5\n",
        "  npimg = img.numpy()\n",
        "  plt.imshow(np.transpose(npimg, (1,2,0)))\n",
        "  plt.show()\n",
        "  \n",
        "# get some random training images\n",
        "dataiter = iter(trainloader)\n",
        "images, labels = dataiter.next()\n",
        "\n",
        "#show images\n",
        "imshow(tv.utils.make_grid(images))\n",
        "\n",
        "# print labels\n",
        "print(''.join('%5s' % classes[labels[j]] for j in range(4)))"
      ],
      "execution_count": 3,
      "outputs": [
        {
          "output_type": "display_data",
          "data": {
            "image/png": "[encoded data removed]",
            "text/plain": [
              "<Figure size 432x288 with 1 Axes>"
            ]
          },
          "metadata": {
            "tags": []
          }
        },
        {
          "output_type": "stream",
          "text": [
            "truck bird shiptruck\n"
          ],
          "name": "stdout"
        }
      ]
    },
    {
      "cell_type": "code",
      "metadata": {
        "id": "15Y4748qKsO7",
        "colab_type": "code",
        "colab": {}
      },
      "source": [
        "# define the custom relu function that is 0 for all x<0.2 or else it is x-0.2 \n",
        "def crelu(inputs): \n",
        "  \n",
        "  print(inputs.shape)\n",
        "  a, b, c, d = inputs.shape\n",
        "  print(a, b, c ,d)\n",
        "  inputs = inputs.view(-1)\n",
        "  for i in range(len(inputs)):\n",
        "    if(inputs[i] <= 0.2):\n",
        "      inputs[i] = 0\n",
        "    else:\n",
        "      inputs[i] = inputs[i] - 0.2\n",
        "  \n",
        "  inputs = inputs.view(a, b, c, d)\n",
        "  return inputs\n",
        "      \n",
        "  \n",
        "    "
      ],
      "execution_count": 0,
      "outputs": []
    },
    {
      "cell_type": "code",
      "metadata": {
        "id": "OCKQWE5aLwx3",
        "colab_type": "code",
        "colab": {}
      },
      "source": [
        "\n",
        "class cReLU(nn.Module):\n",
        "  def __init__(self):\n",
        "    super().__init__() #init the base class\n",
        "    \n",
        "  def forward(self, input):\n",
        "    return crelu(input)"
      ],
      "execution_count": 0,
      "outputs": []
    },
    {
      "cell_type": "code",
      "metadata": {
        "id": "AOfKStKCMA01",
        "colab_type": "code",
        "colab": {}
      },
      "source": [
        "import torch.nn as nn\n",
        "import torch.nn.functional as F\n",
        "\n",
        "class Net(nn.Module):\n",
        "    def __init__(self):\n",
        "        super(Net, self).__init__()\n",
        "        self.conv1 = nn.Conv2d(3, 6, 5)\n",
        "        self.pool = nn.MaxPool2d(2, 2)\n",
        "        self.conv2 = nn.Conv2d(6, 16, 5)\n",
        "        self.fc1 = nn.Linear(16 * 5 * 5, 120)\n",
        "        self.fc2 = nn.Linear(120, 84)\n",
        "        self.fc3 = nn.Linear(84, 10)\n",
        "\n",
        "    def forward(self, x):\n",
        "        x = self.pool(crelu(self.conv1(x)))\n",
        "        x = self.pool(crelu(self.conv2(x)))\n",
        "        x = x.view(-1, 16 * 5 * 5)\n",
        "        x = F.relu(self.fc1(x))\n",
        "        x = F.relu(self.fc2(x))\n",
        "        x = self.fc3(x)\n",
        "        return x"
      ],
      "execution_count": 0,
      "outputs": []
    },
    {
      "cell_type": "code",
      "metadata": {
        "id": "Xg4wxGXSN_GT",
        "colab_type": "code",
        "colab": {
          "base_uri": "https://localhost:8080/",
          "height": 34
        },
        "outputId": "af26fa46-8792-4d5d-9949-571d12b44615"
      },
      "source": [
        "device = torch.device(\"cuda:0\" if torch.cuda.is_available() else \"cpu\")\n",
        "print(device)"
      ],
      "execution_count": 122,
      "outputs": [
        {
          "output_type": "stream",
          "text": [
            "cuda:0\n"
          ],
          "name": "stdout"
        }
      ]
    },
    {
      "cell_type": "code",
      "metadata": {
        "id": "z1AsqbAiOArT",
        "colab_type": "code",
        "colab": {}
      },
      "source": [
        "model = Net().to(device)"
      ],
      "execution_count": 0,
      "outputs": []
    },
    {
      "cell_type": "code",
      "metadata": {
        "id": "z7TCtbJNOCOj",
        "colab_type": "code",
        "colab": {
          "base_uri": "https://localhost:8080/",
          "height": 153
        },
        "outputId": "77bbccdb-0395-4513-948d-f24ce69549dc"
      },
      "source": [
        "print(model)"
      ],
      "execution_count": 124,
      "outputs": [
        {
          "output_type": "stream",
          "text": [
            "Net(\n",
            "  (conv1): Conv2d(3, 6, kernel_size=(5, 5), stride=(1, 1))\n",
            "  (pool): MaxPool2d(kernel_size=2, stride=2, padding=0, dilation=1, ceil_mode=False)\n",
            "  (conv2): Conv2d(6, 16, kernel_size=(5, 5), stride=(1, 1))\n",
            "  (fc1): Linear(in_features=400, out_features=120, bias=True)\n",
            "  (fc2): Linear(in_features=120, out_features=84, bias=True)\n",
            "  (fc3): Linear(in_features=84, out_features=10, bias=True)\n",
            ")\n"
          ],
          "name": "stdout"
        }
      ]
    },
    {
      "cell_type": "code",
      "metadata": {
        "id": "W4ZeclA_OEAC",
        "colab_type": "code",
        "colab": {}
      },
      "source": [
        "import torch.optim as optim\n",
        "\n",
        "criterion = nn.CrossEntropyLoss()\n",
        "optimizer = optim.SGD(model.parameters(), lr = 0.001, momentum = 0.9)"
      ],
      "execution_count": 0,
      "outputs": []
    },
    {
      "cell_type": "code",
      "metadata": {
        "id": "v4bcyZ5NOGky",
        "colab_type": "code",
        "colab": {}
      },
      "source": [
        "epochs_number = 3"
      ],
      "execution_count": 0,
      "outputs": []
    },
    {
      "cell_type": "code",
      "metadata": {
        "id": "yRcjajIEOIS5",
        "colab_type": "code",
        "colab": {
          "base_uri": "https://localhost:8080/",
          "height": 1000
        },
        "outputId": "12d5d987-dba8-41a0-ff6d-08f20740e1a7"
      },
      "source": [
        "# ======= Train the network =======\n",
        "\n",
        "for epoch in range(epochs_number):\n",
        "  \n",
        "  running_loss = 0.0\n",
        "  for i, data in enumerate(trainloader, 0):\n",
        "    # get the inputs; data is a list of [inputs, labels]\n",
        "    \n",
        "    inputs, labels = data\n",
        "    inputs, labels = inputs.to(device), labels.to(device) \n",
        "    \n",
        "    #zero the parameter gradients\n",
        "    optimizer.zero_grad()\n",
        "    \n",
        "    #forward + backward + optimize\n",
        "    outputs = model(inputs)\n",
        "    loss = criterion(outputs, labels)\n",
        "    loss.backward()\n",
        "    optimizer.step()\n",
        "    \n",
        "    #print statistics\n",
        "    running_loss = running_loss + loss.item()\n",
        "    if i % 2 == 1:   #print every 2000 mini-batches\n",
        "      print('[%d, %5d] loss: %.3f' %(epoch+1, i+1, running_loss/2))\n",
        "      running_loss = 0.0\n",
        "      \n",
        "\n",
        "    "
      ],
      "execution_count": 129,
      "outputs": [
        {
          "output_type": "stream",
          "text": [
            "torch.Size([4, 6, 28, 28])\n",
            "4 6 28 28\n",
            "torch.Size([4, 16, 10, 10])\n",
            "4 16 10 10\n",
            "torch.Size([4, 6, 28, 28])\n",
            "4 6 28 28\n",
            "torch.Size([4, 16, 10, 10])\n",
            "4 16 10 10\n",
            "[1,     2] loss: 2.269\n",
            "torch.Size([4, 6, 28, 28])\n",
            "4 6 28 28\n",
            "torch.Size([4, 16, 10, 10])\n",
            "4 16 10 10\n",
            "torch.Size([4, 6, 28, 28])\n",
            "4 6 28 28\n",
            "torch.Size([4, 16, 10, 10])\n",
            "4 16 10 10\n",
            "[1,     4] loss: 2.325\n",
            "torch.Size([4, 6, 28, 28])\n",
            "4 6 28 28\n",
            "torch.Size([4, 16, 10, 10])\n",
            "4 16 10 10\n",
            "torch.Size([4, 6, 28, 28])\n",
            "4 6 28 28\n",
            "torch.Size([4, 16, 10, 10])\n",
            "4 16 10 10\n",
            "[1,     6] loss: 2.315\n",
            "torch.Size([4, 6, 28, 28])\n",
            "4 6 28 28\n",
            "torch.Size([4, 16, 10, 10])\n",
            "4 16 10 10\n",
            "torch.Size([4, 6, 28, 28])\n",
            "4 6 28 28\n",
            "torch.Size([4, 16, 10, 10])\n",
            "4 16 10 10\n",
            "[1,     8] loss: 2.338\n",
            "torch.Size([4, 6, 28, 28])\n",
            "4 6 28 28\n",
            "torch.Size([4, 16, 10, 10])\n",
            "4 16 10 10\n",
            "torch.Size([4, 6, 28, 28])\n",
            "4 6 28 28\n",
            "torch.Size([4, 16, 10, 10])\n",
            "4 16 10 10\n",
            "[1,    10] loss: 2.318\n",
            "torch.Size([4, 6, 28, 28])\n",
            "4 6 28 28\n",
            "torch.Size([4, 16, 10, 10])\n",
            "4 16 10 10\n",
            "torch.Size([4, 6, 28, 28])\n",
            "4 6 28 28\n",
            "torch.Size([4, 16, 10, 10])\n",
            "4 16 10 10\n",
            "[1,    12] loss: 2.287\n",
            "torch.Size([4, 6, 28, 28])\n",
            "4 6 28 28\n",
            "torch.Size([4, 16, 10, 10])\n",
            "4 16 10 10\n",
            "torch.Size([4, 6, 28, 28])\n",
            "4 6 28 28\n",
            "torch.Size([4, 16, 10, 10])\n",
            "4 16 10 10\n",
            "[1,    14] loss: 2.330\n",
            "torch.Size([4, 6, 28, 28])\n",
            "4 6 28 28\n",
            "torch.Size([4, 16, 10, 10])\n",
            "4 16 10 10\n",
            "torch.Size([4, 6, 28, 28])\n",
            "4 6 28 28\n",
            "torch.Size([4, 16, 10, 10])\n",
            "4 16 10 10\n",
            "[1,    16] loss: 2.300\n",
            "torch.Size([4, 6, 28, 28])\n",
            "4 6 28 28\n",
            "torch.Size([4, 16, 10, 10])\n",
            "4 16 10 10\n",
            "torch.Size([4, 6, 28, 28])\n",
            "4 6 28 28\n",
            "torch.Size([4, 16, 10, 10])\n",
            "4 16 10 10\n",
            "[1,    18] loss: 2.332\n",
            "torch.Size([4, 6, 28, 28])\n",
            "4 6 28 28\n",
            "torch.Size([4, 16, 10, 10])\n",
            "4 16 10 10\n",
            "torch.Size([4, 6, 28, 28])\n",
            "4 6 28 28\n",
            "torch.Size([4, 16, 10, 10])\n",
            "4 16 10 10\n",
            "[1,    20] loss: 2.310\n",
            "torch.Size([4, 6, 28, 28])\n",
            "4 6 28 28\n",
            "torch.Size([4, 16, 10, 10])\n",
            "4 16 10 10\n",
            "torch.Size([4, 6, 28, 28])\n",
            "4 6 28 28\n",
            "torch.Size([4, 16, 10, 10])\n",
            "4 16 10 10\n",
            "[1,    22] loss: 2.286\n",
            "torch.Size([4, 6, 28, 28])\n",
            "4 6 28 28\n",
            "torch.Size([4, 16, 10, 10])\n",
            "4 16 10 10\n",
            "torch.Size([4, 6, 28, 28])\n",
            "4 6 28 28\n",
            "torch.Size([4, 16, 10, 10])\n",
            "4 16 10 10\n",
            "[1,    24] loss: 2.287\n",
            "torch.Size([4, 6, 28, 28])\n",
            "4 6 28 28\n",
            "torch.Size([4, 16, 10, 10])\n",
            "4 16 10 10\n",
            "torch.Size([4, 6, 28, 28])\n",
            "4 6 28 28\n",
            "torch.Size([4, 16, 10, 10])\n",
            "4 16 10 10\n",
            "[1,    26] loss: 2.332\n",
            "torch.Size([4, 6, 28, 28])\n",
            "4 6 28 28\n",
            "torch.Size([4, 16, 10, 10])\n",
            "4 16 10 10\n",
            "torch.Size([4, 6, 28, 28])\n",
            "4 6 28 28\n",
            "torch.Size([4, 16, 10, 10])\n",
            "4 16 10 10\n",
            "[1,    28] loss: 2.303\n",
            "torch.Size([4, 6, 28, 28])\n",
            "4 6 28 28\n",
            "torch.Size([4, 16, 10, 10])\n",
            "4 16 10 10\n",
            "torch.Size([4, 6, 28, 28])\n",
            "4 6 28 28\n",
            "torch.Size([4, 16, 10, 10])\n",
            "4 16 10 10\n",
            "[1,    30] loss: 2.360\n",
            "torch.Size([4, 6, 28, 28])\n",
            "4 6 28 28\n",
            "torch.Size([4, 16, 10, 10])\n",
            "4 16 10 10\n",
            "torch.Size([4, 6, 28, 28])\n",
            "4 6 28 28\n"
          ],
          "name": "stdout"
        },
        {
          "output_type": "error",
          "ename": "KeyboardInterrupt",
          "evalue": "ignored",
          "traceback": [
            "\u001b[0;31m---------------------------------------------------------------------------\u001b[0m",
            "\u001b[0;31mKeyboardInterrupt\u001b[0m                         Traceback (most recent call last)",
            "\u001b[0;32m<ipython-input-129-cc9bb30e864c>\u001b[0m in \u001b[0;36m<module>\u001b[0;34m()\u001b[0m\n\u001b[1;32m     13\u001b[0m \u001b[0;34m\u001b[0m\u001b[0m\n\u001b[1;32m     14\u001b[0m     \u001b[0;31m#forward + backward + optimize\u001b[0m\u001b[0;34m\u001b[0m\u001b[0;34m\u001b[0m\u001b[0;34m\u001b[0m\u001b[0m\n\u001b[0;32m---> 15\u001b[0;31m     \u001b[0moutputs\u001b[0m \u001b[0;34m=\u001b[0m \u001b[0mmodel\u001b[0m\u001b[0;34m(\u001b[0m\u001b[0minputs\u001b[0m\u001b[0;34m)\u001b[0m\u001b[0;34m\u001b[0m\u001b[0;34m\u001b[0m\u001b[0m\n\u001b[0m\u001b[1;32m     16\u001b[0m     \u001b[0mloss\u001b[0m \u001b[0;34m=\u001b[0m \u001b[0mcriterion\u001b[0m\u001b[0;34m(\u001b[0m\u001b[0moutputs\u001b[0m\u001b[0;34m,\u001b[0m \u001b[0mlabels\u001b[0m\u001b[0;34m)\u001b[0m\u001b[0;34m\u001b[0m\u001b[0;34m\u001b[0m\u001b[0m\n\u001b[1;32m     17\u001b[0m     \u001b[0mloss\u001b[0m\u001b[0;34m.\u001b[0m\u001b[0mbackward\u001b[0m\u001b[0;34m(\u001b[0m\u001b[0;34m)\u001b[0m\u001b[0;34m\u001b[0m\u001b[0;34m\u001b[0m\u001b[0m\n",
            "\u001b[0;32m/usr/local/lib/python3.6/dist-packages/torch/nn/modules/module.py\u001b[0m in \u001b[0;36m__call__\u001b[0;34m(self, *input, **kwargs)\u001b[0m\n\u001b[1;32m    491\u001b[0m             \u001b[0mresult\u001b[0m \u001b[0;34m=\u001b[0m \u001b[0mself\u001b[0m\u001b[0;34m.\u001b[0m\u001b[0m_slow_forward\u001b[0m\u001b[0;34m(\u001b[0m\u001b[0;34m*\u001b[0m\u001b[0minput\u001b[0m\u001b[0;34m,\u001b[0m \u001b[0;34m**\u001b[0m\u001b[0mkwargs\u001b[0m\u001b[0;34m)\u001b[0m\u001b[0;34m\u001b[0m\u001b[0;34m\u001b[0m\u001b[0m\n\u001b[1;32m    492\u001b[0m         \u001b[0;32melse\u001b[0m\u001b[0;34m:\u001b[0m\u001b[0;34m\u001b[0m\u001b[0;34m\u001b[0m\u001b[0m\n\u001b[0;32m--> 493\u001b[0;31m             \u001b[0mresult\u001b[0m \u001b[0;34m=\u001b[0m \u001b[0mself\u001b[0m\u001b[0;34m.\u001b[0m\u001b[0mforward\u001b[0m\u001b[0;34m(\u001b[0m\u001b[0;34m*\u001b[0m\u001b[0minput\u001b[0m\u001b[0;34m,\u001b[0m \u001b[0;34m**\u001b[0m\u001b[0mkwargs\u001b[0m\u001b[0;34m)\u001b[0m\u001b[0;34m\u001b[0m\u001b[0;34m\u001b[0m\u001b[0m\n\u001b[0m\u001b[1;32m    494\u001b[0m         \u001b[0;32mfor\u001b[0m \u001b[0mhook\u001b[0m \u001b[0;32min\u001b[0m \u001b[0mself\u001b[0m\u001b[0;34m.\u001b[0m\u001b[0m_forward_hooks\u001b[0m\u001b[0;34m.\u001b[0m\u001b[0mvalues\u001b[0m\u001b[0;34m(\u001b[0m\u001b[0;34m)\u001b[0m\u001b[0;34m:\u001b[0m\u001b[0;34m\u001b[0m\u001b[0;34m\u001b[0m\u001b[0m\n\u001b[1;32m    495\u001b[0m             \u001b[0mhook_result\u001b[0m \u001b[0;34m=\u001b[0m \u001b[0mhook\u001b[0m\u001b[0;34m(\u001b[0m\u001b[0mself\u001b[0m\u001b[0;34m,\u001b[0m \u001b[0minput\u001b[0m\u001b[0;34m,\u001b[0m \u001b[0mresult\u001b[0m\u001b[0;34m)\u001b[0m\u001b[0;34m\u001b[0m\u001b[0;34m\u001b[0m\u001b[0m\n",
            "\u001b[0;32m<ipython-input-121-f8ca03e818de>\u001b[0m in \u001b[0;36mforward\u001b[0;34m(self, x)\u001b[0m\n\u001b[1;32m     13\u001b[0m \u001b[0;34m\u001b[0m\u001b[0m\n\u001b[1;32m     14\u001b[0m     \u001b[0;32mdef\u001b[0m \u001b[0mforward\u001b[0m\u001b[0;34m(\u001b[0m\u001b[0mself\u001b[0m\u001b[0;34m,\u001b[0m \u001b[0mx\u001b[0m\u001b[0;34m)\u001b[0m\u001b[0;34m:\u001b[0m\u001b[0;34m\u001b[0m\u001b[0;34m\u001b[0m\u001b[0m\n\u001b[0;32m---> 15\u001b[0;31m         \u001b[0mx\u001b[0m \u001b[0;34m=\u001b[0m \u001b[0mself\u001b[0m\u001b[0;34m.\u001b[0m\u001b[0mpool\u001b[0m\u001b[0;34m(\u001b[0m\u001b[0mcrelu\u001b[0m\u001b[0;34m(\u001b[0m\u001b[0mself\u001b[0m\u001b[0;34m.\u001b[0m\u001b[0mconv1\u001b[0m\u001b[0;34m(\u001b[0m\u001b[0mx\u001b[0m\u001b[0;34m)\u001b[0m\u001b[0;34m)\u001b[0m\u001b[0;34m)\u001b[0m\u001b[0;34m\u001b[0m\u001b[0;34m\u001b[0m\u001b[0m\n\u001b[0m\u001b[1;32m     16\u001b[0m         \u001b[0mx\u001b[0m \u001b[0;34m=\u001b[0m \u001b[0mself\u001b[0m\u001b[0;34m.\u001b[0m\u001b[0mpool\u001b[0m\u001b[0;34m(\u001b[0m\u001b[0mcrelu\u001b[0m\u001b[0;34m(\u001b[0m\u001b[0mself\u001b[0m\u001b[0;34m.\u001b[0m\u001b[0mconv2\u001b[0m\u001b[0;34m(\u001b[0m\u001b[0mx\u001b[0m\u001b[0;34m)\u001b[0m\u001b[0;34m)\u001b[0m\u001b[0;34m)\u001b[0m\u001b[0;34m\u001b[0m\u001b[0;34m\u001b[0m\u001b[0m\n\u001b[1;32m     17\u001b[0m         \u001b[0mx\u001b[0m \u001b[0;34m=\u001b[0m \u001b[0mx\u001b[0m\u001b[0;34m.\u001b[0m\u001b[0mview\u001b[0m\u001b[0;34m(\u001b[0m\u001b[0;34m-\u001b[0m\u001b[0;36m1\u001b[0m\u001b[0;34m,\u001b[0m \u001b[0;36m16\u001b[0m \u001b[0;34m*\u001b[0m \u001b[0;36m5\u001b[0m \u001b[0;34m*\u001b[0m \u001b[0;36m5\u001b[0m\u001b[0;34m)\u001b[0m\u001b[0;34m\u001b[0m\u001b[0;34m\u001b[0m\u001b[0m\n",
            "\u001b[0;32m<ipython-input-120-234e0dd8ce4c>\u001b[0m in \u001b[0;36mcrelu\u001b[0;34m(inputs)\u001b[0m\n\u001b[1;32m      9\u001b[0m       \u001b[0minputs\u001b[0m\u001b[0;34m[\u001b[0m\u001b[0mi\u001b[0m\u001b[0;34m]\u001b[0m \u001b[0;34m=\u001b[0m \u001b[0;36m0\u001b[0m\u001b[0;34m\u001b[0m\u001b[0;34m\u001b[0m\u001b[0m\n\u001b[1;32m     10\u001b[0m     \u001b[0;32melse\u001b[0m\u001b[0;34m:\u001b[0m\u001b[0;34m\u001b[0m\u001b[0;34m\u001b[0m\u001b[0m\n\u001b[0;32m---> 11\u001b[0;31m       \u001b[0minputs\u001b[0m\u001b[0;34m[\u001b[0m\u001b[0mi\u001b[0m\u001b[0;34m]\u001b[0m \u001b[0;34m=\u001b[0m \u001b[0minputs\u001b[0m\u001b[0;34m[\u001b[0m\u001b[0mi\u001b[0m\u001b[0;34m]\u001b[0m \u001b[0;34m-\u001b[0m \u001b[0;36m0.2\u001b[0m\u001b[0;34m\u001b[0m\u001b[0;34m\u001b[0m\u001b[0m\n\u001b[0m\u001b[1;32m     12\u001b[0m \u001b[0;34m\u001b[0m\u001b[0m\n\u001b[1;32m     13\u001b[0m   \u001b[0minputs\u001b[0m \u001b[0;34m=\u001b[0m \u001b[0minputs\u001b[0m\u001b[0;34m.\u001b[0m\u001b[0mview\u001b[0m\u001b[0;34m(\u001b[0m\u001b[0ma\u001b[0m\u001b[0;34m,\u001b[0m \u001b[0mb\u001b[0m\u001b[0;34m,\u001b[0m \u001b[0mc\u001b[0m\u001b[0;34m,\u001b[0m \u001b[0md\u001b[0m\u001b[0;34m)\u001b[0m\u001b[0;34m\u001b[0m\u001b[0;34m\u001b[0m\u001b[0m\n",
            "\u001b[0;31mKeyboardInterrupt\u001b[0m: "
          ]
        }
      ]
    },
    {
      "cell_type": "code",
      "metadata": {
        "id": "QgHsW2PAOJ4x",
        "colab_type": "code",
        "colab": {}
      },
      "source": [
        " a = torch.rand([4,6,28,28])"
      ],
      "execution_count": 0,
      "outputs": []
    },
    {
      "cell_type": "code",
      "metadata": {
        "id": "QLYT0pUueWKo",
        "colab_type": "code",
        "colab": {
          "base_uri": "https://localhost:8080/",
          "height": 34
        },
        "outputId": "382c1770-79e3-4b80-fb08-e4070fc7a245"
      },
      "source": [
        "a.shape"
      ],
      "execution_count": 95,
      "outputs": [
        {
          "output_type": "execute_result",
          "data": {
            "text/plain": [
              "torch.Size([4, 6, 28, 28])"
            ]
          },
          "metadata": {
            "tags": []
          },
          "execution_count": 95
        }
      ]
    },
    {
      "cell_type": "code",
      "metadata": {
        "id": "cD5O4QHSecqn",
        "colab_type": "code",
        "colab": {}
      },
      "source": [
        ""
      ],
      "execution_count": 0,
      "outputs": []
    }
  ]
}